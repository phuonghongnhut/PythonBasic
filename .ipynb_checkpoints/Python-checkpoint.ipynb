{
 "cells": [
  {
   "cell_type": "markdown",
   "id": "36ba248c-d5a2-4043-acfd-ef3860dc9bbb",
   "metadata": {},
   "source": [
    "## 1. Cài đặt môi trường \n",
    "## 2. Kiểu dữ liệu\n",
    "### 2.1 Numbers\n",
    "### 2.2 Strings\n",
    "### 2.3 Lists\n",
    "### 2.4 Dictionaries\n",
    "### 2.5 Tuples\n",
    "### 2.6 Files\n",
    "## 3. Câu lệnh\n",
    "## 3.1 Rẽ nhánh\n",
    "## 3.2 Vòng lặp\n",
    "## 3.3 Iter và Comprehensions\n",
    "## 4. Hàm\n",
    "## 4.1 Phạm vi hàm\n",
    "## 4.2 Tham số\n",
    "## 5. Modules and Packages\n",
    "## 6. Classes and OOP\n",
    "## 7. Exception and Tools"
   ]
  }
 ],
 "metadata": {
  "kernelspec": {
   "display_name": "Python 3 (ipykernel)",
   "language": "python",
   "name": "python3"
  },
  "language_info": {
   "codemirror_mode": {
    "name": "ipython",
    "version": 3
   },
   "file_extension": ".py",
   "mimetype": "text/x-python",
   "name": "python",
   "nbconvert_exporter": "python",
   "pygments_lexer": "ipython3",
   "version": "3.12.4"
  }
 },
 "nbformat": 4,
 "nbformat_minor": 5
}
