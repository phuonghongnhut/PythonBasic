{
 "cells": [
  {
   "cell_type": "markdown",
   "id": "c8e229de-78bf-4388-9443-9009f5569fe7",
   "metadata": {
    "jp-MarkdownHeadingCollapsed": true
   },
   "source": [
    "## 1. Python basic"
   ]
  },
  {
   "cell_type": "markdown",
   "id": "3f8f83b3-386e-40d6-8595-ed1d55614bc7",
   "metadata": {},
   "source": [
    "1. Viết chương trình hóan vị hai số"
   ]
  },
  {
   "cell_type": "markdown",
   "id": "2ef957a6-848e-468d-a1c6-aabc1c173102",
   "metadata": {},
   "source": [
    "# 2. Điều kiện"
   ]
  },
  {
   "cell_type": "markdown",
   "id": "ffe07800-55ff-483f-897f-94752a730926",
   "metadata": {},
   "source": [
    "1. Câu lệnh sau in ra gì?\n",
    "```python\n",
    "if 28:\n",
    "    print('Hi')\n",
    "else:\n",
    "    print('Bye')\n",
    "==========================\n",
    "a = 5\n",
    "b = 7\n",
    "c = 9\n",
    "if a > 0:\n",
    "    if b > c:\n",
    "        print(b)\n",
    "    else:\n",
    "        print(c)\n",
    "else:\n",
    "    if b > c:\n",
    "        print(c)\n",
    "    else:\n",
    "        print(b)\n",
    "```"
   ]
  },
  {
   "cell_type": "markdown",
   "id": "3d1bb059-1097-4d92-8639-cb629fbf732b",
   "metadata": {},
   "source": [
    "## Hàm "
   ]
  },
  {
   "cell_type": "markdown",
   "id": "f587ec91-76c0-4800-92b1-9aed6962f2fb",
   "metadata": {},
   "source": [
    "Các đoạn Code sau trả về gì?\n",
    "\n",
    "```python\n",
    "X = 'Spam'\n",
    "def func():\n",
    "    global X\n",
    "    X = 'NI'\n",
    "=======================\n",
    "X = 'Spam'\n",
    "def func():\n",
    "    X = 'NI'\n",
    "    def nested():\n",
    "        print(X)\n",
    "    nested()\n",
    "```"
   ]
  },
  {
   "cell_type": "code",
   "execution_count": null,
   "id": "578e00f8-f5fc-49aa-a52c-f987a45d5316",
   "metadata": {},
   "outputs": [],
   "source": []
  }
 ],
 "metadata": {
  "kernelspec": {
   "display_name": "Python 3 (ipykernel)",
   "language": "python",
   "name": "python3"
  },
  "language_info": {
   "codemirror_mode": {
    "name": "ipython",
    "version": 3
   },
   "file_extension": ".py",
   "mimetype": "text/x-python",
   "name": "python",
   "nbconvert_exporter": "python",
   "pygments_lexer": "ipython3",
   "version": "3.12.6"
  }
 },
 "nbformat": 4,
 "nbformat_minor": 5
}
