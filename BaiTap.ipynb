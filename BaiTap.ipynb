{
 "cells": [
  {
   "cell_type": "markdown",
   "id": "3f8f83b3-386e-40d6-8595-ed1d55614bc7",
   "metadata": {},
   "source": [
    "## 1. Python basic\n",
    "1. Viết chương trình hóan vị hai số\n",
    "## 2. Điều kiện\n",
    "1. Câu lệnh sau in ra gì?\n",
    "```python\n",
    "if 28:\n",
    "    print('Hi')\n",
    "else:\n",
    "    print('Bye')\n",
    "==========================\n",
    "a = 5\n",
    "b = 7\n",
    "c = 9\n",
    "if a > 0:\n",
    "    if b > c:\n",
    "        print(b)\n",
    "    else:\n",
    "        print(c)\n",
    "else:\n",
    "    if b > c:\n",
    "        print(c)\n",
    "    else:\n",
    "        print(b)\n",
    "```"
   ]
  },
  {
   "cell_type": "code",
   "execution_count": 3,
   "id": "e9cfb90f-bbeb-4788-af9a-5113733020bd",
   "metadata": {},
   "outputs": [
    {
     "name": "stdout",
     "output_type": "stream",
     "text": [
      "9\n"
     ]
    }
   ],
   "source": []
  },
  {
   "cell_type": "code",
   "execution_count": null,
   "id": "a79705dd-9030-4a75-a0ff-e6e8acd7ab0d",
   "metadata": {},
   "outputs": [],
   "source": []
  }
 ],
 "metadata": {
  "kernelspec": {
   "display_name": "Python 3 (ipykernel)",
   "language": "python",
   "name": "python3"
  },
  "language_info": {
   "codemirror_mode": {
    "name": "ipython",
    "version": 3
   },
   "file_extension": ".py",
   "mimetype": "text/x-python",
   "name": "python",
   "nbconvert_exporter": "python",
   "pygments_lexer": "ipython3",
   "version": "3.12.6"
  }
 },
 "nbformat": 4,
 "nbformat_minor": 5
}
