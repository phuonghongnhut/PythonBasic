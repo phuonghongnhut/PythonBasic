{
 "cells": [
  {
   "cell_type": "markdown",
   "id": "be94df8e-1094-4742-a2dd-49bfc356b8fc",
   "metadata": {
    "jp-MarkdownHeadingCollapsed": true
   },
   "source": [
    "## Nội dung "
   ]
  },
  {
   "cell_type": "code",
   "execution_count": null,
   "id": "62fd9e3e-2fc4-4418-a9e7-46586e2c464e",
   "metadata": {},
   "outputs": [],
   "source": []
  },
  {
   "cell_type": "markdown",
   "id": "36ba248c-d5a2-4043-acfd-ef3860dc9bbb",
   "metadata": {},
   "source": [
    "- 1. Cài đặt môi trường \n",
    "- 2. Kiểu dữ liệu\n",
    "    - 2.1 Numbers\n",
    "    - 2.2 Strings\n",
    "    - 2.3 Lists\n",
    "    - 2.4 Dictionaries\n",
    "    - 2.5 Tuples\n",
    "    - 2.6 Files\n",
    "- 3. Câu lệnh\n",
    "    - 3.1 Rẽ nhánh\n",
    "    - 3.2 Vòng lặp\n",
    "    - 3.3 Iter và Comprehensions\n",
    "- 4. Hàm và Hàm Sinh\n",
    "    - 4.1 Phạm vi hàm\n",
    "    - 4.2 Tham số\n",
    "- 5. Modules and Packages\n",
    "- 6. Classes and OOP\n",
    "- 7. Exception and Tools"
   ]
  },
  {
   "cell_type": "markdown",
   "id": "d613d43a-1347-4c3d-b0a3-b9eb621f34f0",
   "metadata": {
    "jp-MarkdownHeadingCollapsed": true
   },
   "source": [
    "# 1. Cài đặt môi trường"
   ]
  },
  {
   "cell_type": "markdown",
   "id": "b49b3216-4d47-4f06-8e74-19d4860bdf9a",
   "metadata": {},
   "source": [
    "Các IDE phổ biến cho lập trình Python:\n",
    "- VS Code\n",
    "- Pycharm\n",
    "- NeoVim\n",
    "- Jupyter Notebook\n",
    "\n",
    "1. Mở terminal tạo 1 folder tên Python. \n",
    "2. Tạo biến môi trường cho dự án. Ý nghĩa mỗi dự án sẽ sử dụng những thư viện khác nhau chỉ cần cài đúng thư viện cần thiết.\n",
    "```bash\n",
    "python -m venv ./venv\n",
    "```\n",
    "3. Kích hoạt biến môi trường\n",
    "- Windows\n",
    "```bash\n",
    "venv/Scripts/activate.bat\n",
    "```\n",
    "- Linux, MacOS\n",
    "```bash\n",
    "source venv/bin/active\n",
    "```\n",
    "4. Kiểm tra xem những thư viện nào đã được cài\n",
    "```bash\n",
    "pip list\n",
    "```\n",
    "5. Cài đặt thư viện mới\n",
    "```bash\n",
    "pip install name_\n",
    "```\n",
    "\n",
    "Ta sẽ dùng jupyter notebook.\n",
    "\n",
    "Cài đặt \n",
    "```bash\n",
    "pip install jupyter\n",
    "jupyter notebook\n",
    "```\n",
    "\n",
    "Sẽ đóng gói các thư viện đã cài \n",
    "```bash\n",
    "pip freeze > requirements.txt\n",
    "pip install -r requirements.txt\n",
    "```"
   ]
  },
  {
   "cell_type": "markdown",
   "id": "c2b05f96-a814-499f-864e-89c992b3edd0",
   "metadata": {
    "jp-MarkdownHeadingCollapsed": true
   },
   "source": [
    "# 2. Kiểu dữ liệu"
   ]
  },
  {
   "cell_type": "markdown",
   "id": "e6069082-3b54-47c0-986f-96f5a8cf85ea",
   "metadata": {},
   "source": [
    "- Numbers\n",
    "- Boolean\n",
    "- Strings\n",
    "- None"
   ]
  },
  {
   "cell_type": "code",
   "execution_count": 5,
   "id": "07be539a-9b97-40f8-8b57-1b7f417a665e",
   "metadata": {
    "collapsed": true,
    "jupyter": {
     "outputs_hidden": true
    }
   },
   "outputs": [
    {
     "name": "stdout",
     "output_type": "stream",
     "text": [
      "<class 'int'>\n",
      "<class 'float'>\n",
      "<class 'str'>\n",
      "<class 'bool'>\n",
      "<class 'NoneType'>\n"
     ]
    }
   ],
   "source": [
    "x = 10\n",
    "y = 10.0\n",
    "print(type(x))\n",
    "print(type(y))\n",
    "s = \"Hello\"\n",
    "print(type(s))\n",
    "z = True\n",
    "print(type(z))\n",
    "money = None\n",
    "print(type(money))"
   ]
  },
  {
   "cell_type": "markdown",
   "id": "fe82ab6b-6133-439b-a841-63631c80b949",
   "metadata": {},
   "source": [
    "Python không dùng dấu `{}` để khai báo nội dung hàm hay lớp mà dùng thụt dòng.\n",
    "```python\n",
    "def hello():\n",
    "    print('Hello')\n",
    "```\n",
    "Chú thích code `#`\n",
    "```python\n",
    "def hello():\n",
    "    # Đây là ví dụ về chú thích 1 dong\n",
    "    \"\"\"Đây là \n",
    "    ví dụ về \n",
    "    chú thích nhiều dòng\n",
    "    \"\"\"\n",
    "    print('Hello')\n",
    "```"
   ]
  },
  {
   "cell_type": "code",
   "execution_count": 2,
   "id": "8334d231-7fa5-4667-8562-0991157a4677",
   "metadata": {},
   "outputs": [
    {
     "name": "stdout",
     "output_type": "stream",
     "text": [
      "Hello\n"
     ]
    }
   ],
   "source": [
    "def hello():\n",
    "    print('Hello')\n",
    "\n",
    "hello()"
   ]
  },
  {
   "cell_type": "code",
   "execution_count": 3,
   "id": "b7920925-8dba-48f1-b207-bd7abb7a42ff",
   "metadata": {
    "collapsed": true,
    "jupyter": {
     "outputs_hidden": true
    }
   },
   "outputs": [
    {
     "name": "stdout",
     "output_type": "stream",
     "text": [
      "Hello\n"
     ]
    }
   ],
   "source": [
    "def hello():\n",
    "    # Đây là ví dụ về chú thích 1 dong\n",
    "    \"\"\"Đây là \n",
    "    ví dụ về \n",
    "    chú thích nhiều dòng\n",
    "    \"\"\"\n",
    "    print('Hello')\n",
    "\n",
    "hello()"
   ]
  },
  {
   "cell_type": "code",
   "execution_count": 4,
   "id": "18d96bfc-aeff-4de0-9fb4-6778c71a7f94",
   "metadata": {
    "collapsed": true,
    "jupyter": {
     "outputs_hidden": true,
     "source_hidden": true
    }
   },
   "outputs": [
    {
     "data": {
      "text/plain": [
       "float"
      ]
     },
     "execution_count": 4,
     "metadata": {},
     "output_type": "execute_result"
    }
   ],
   "source": [
    "type(3.0)"
   ]
  },
  {
   "cell_type": "markdown",
   "id": "9fc3c6de-3bd9-43a0-9a15-888897ff25dd",
   "metadata": {},
   "source": [
    "Nhận giá trị từ bàn phím:"
   ]
  },
  {
   "cell_type": "code",
   "execution_count": 3,
   "id": "643e97f2-6fb1-4a39-9af8-51943ac4867a",
   "metadata": {
    "collapsed": true,
    "jupyter": {
     "outputs_hidden": true,
     "source_hidden": true
    }
   },
   "outputs": [
    {
     "name": "stdin",
     "output_type": "stream",
     "text": [
      "Nhập giá trị a:  w\n"
     ]
    },
    {
     "name": "stdout",
     "output_type": "stream",
     "text": [
      "Giá trị đã nhập: w kiểu là <class 'str'>\n"
     ]
    }
   ],
   "source": [
    "a = input(\"Nhập giá trị a: \")\n",
    "print(f\"Giá trị đã nhập: {a} kiểu là {type(a)}\")"
   ]
  },
  {
   "cell_type": "code",
   "execution_count": 8,
   "id": "9e56abde-921b-4988-9bc7-805ae10fd6e3",
   "metadata": {
    "collapsed": true,
    "jupyter": {
     "outputs_hidden": true,
     "source_hidden": true
    }
   },
   "outputs": [
    {
     "name": "stdin",
     "output_type": "stream",
     "text": [
      "Nhập giá trị a:  3\n"
     ]
    },
    {
     "name": "stdout",
     "output_type": "stream",
     "text": [
      "Giá trị đã nhập: 3 kiểu là <class 'int'>\n"
     ]
    }
   ],
   "source": [
    "a = int(input(\"Nhập giá trị a: \"))\n",
    "print(f\"Giá trị đã nhập: {a} kiểu là {type(a)}\")"
   ]
  },
  {
   "cell_type": "code",
   "execution_count": 10,
   "id": "0f9ed38e-a8a1-41f9-af1c-fe1304457fe5",
   "metadata": {
    "collapsed": true,
    "jupyter": {
     "outputs_hidden": true
    }
   },
   "outputs": [
    {
     "data": {
      "text/plain": [
       "3"
      ]
     },
     "execution_count": 10,
     "metadata": {},
     "output_type": "execute_result"
    }
   ],
   "source": [
    "int(3.4)"
   ]
  },
  {
   "cell_type": "code",
   "execution_count": 11,
   "id": "93742b5f-af51-47b9-8cb8-5a317946b62e",
   "metadata": {
    "collapsed": true,
    "jupyter": {
     "outputs_hidden": true
    }
   },
   "outputs": [
    {
     "data": {
      "text/plain": [
       "4.0"
      ]
     },
     "execution_count": 11,
     "metadata": {},
     "output_type": "execute_result"
    }
   ],
   "source": [
    "float(4)"
   ]
  },
  {
   "cell_type": "markdown",
   "id": "f15543c7-ce07-4e9c-a721-d834b9e17a5d",
   "metadata": {},
   "source": [
    "# 2.2 Strings"
   ]
  },
  {
   "cell_type": "code",
   "execution_count": 5,
   "id": "8ce50562-d9f7-46d0-bd56-7c0c7e5a5080",
   "metadata": {
    "collapsed": true,
    "jupyter": {
     "outputs_hidden": true
    }
   },
   "outputs": [
    {
     "name": "stdout",
     "output_type": "stream",
     "text": [
      "5\n"
     ]
    }
   ],
   "source": [
    "string = \"Hello\"\n",
    "print(len(string))"
   ]
  },
  {
   "cell_type": "markdown",
   "id": "7cf9ceaa-55b4-4ea0-bb7a-0afcfe3afbe8",
   "metadata": {},
   "source": [
    "Truy cập vị trí chuỗi\n",
    "`[start:end:step]`"
   ]
  },
  {
   "cell_type": "code",
   "execution_count": 8,
   "id": "fcf69ae8-1c09-4e7b-ba40-d7fc78fbbe7c",
   "metadata": {
    "collapsed": true,
    "jupyter": {
     "outputs_hidden": true,
     "source_hidden": true
    }
   },
   "outputs": [
    {
     "name": "stdout",
     "output_type": "stream",
     "text": [
      "e\n",
      "Hlo\n",
      "o\n"
     ]
    }
   ],
   "source": [
    "b = string[1:2]\n",
    "print(b)\n",
    "print(string[0:5:2])\n",
    "print(string[-1])"
   ]
  },
  {
   "cell_type": "code",
   "execution_count": 13,
   "id": "39ac91e1-b8db-47a1-af60-47ab5f2dff49",
   "metadata": {
    "collapsed": true,
    "jupyter": {
     "outputs_hidden": true,
     "source_hidden": true
    }
   },
   "outputs": [
    {
     "data": {
      "text/plain": [
       "\"str(object='') -> str\\nstr(bytes_or_buffer[, encoding[, errors]]) -> str\\n\\nCreate a new string object from the given object. If encoding or\\nerrors is specified, then the object must expose a data buffer\\nthat will be decoded using the given encoding and error handler.\\nOtherwise, returns the result of object.__str__() (if defined)\\nor repr(object).\\nencoding defaults to sys.getdefaultencoding().\\nerrors defaults to 'strict'.\""
      ]
     },
     "execution_count": 13,
     "metadata": {},
     "output_type": "execute_result"
    }
   ],
   "source": [
    "string.__doc__"
   ]
  },
  {
   "cell_type": "code",
   "execution_count": 17,
   "id": "43e91205-77d4-43ab-91bd-19ff4df45455",
   "metadata": {
    "collapsed": true,
    "jupyter": {
     "outputs_hidden": true
    }
   },
   "outputs": [],
   "source": [
    "x = -10"
   ]
  },
  {
   "cell_type": "code",
   "execution_count": 18,
   "id": "f7287cfb-79f4-4bc5-8c3f-cabb9bcf9f2d",
   "metadata": {
    "collapsed": true,
    "jupyter": {
     "outputs_hidden": true,
     "source_hidden": true
    }
   },
   "outputs": [
    {
     "data": {
      "text/plain": [
       "10"
      ]
     },
     "execution_count": 18,
     "metadata": {},
     "output_type": "execute_result"
    }
   ],
   "source": [
    "x.__abs__()"
   ]
  },
  {
   "cell_type": "code",
   "execution_count": 10,
   "id": "4076f214-7aa4-46b7-bb0c-95c8ab305d63",
   "metadata": {
    "collapsed": true,
    "jupyter": {
     "outputs_hidden": true,
     "source_hidden": true
    }
   },
   "outputs": [
    {
     "name": "stdout",
     "output_type": "stream",
     "text": [
      "hello word\n"
     ]
    }
   ],
   "source": [
    "str1 = \"hello\"\n",
    "str2 = \"word\"\n",
    "print(str1 + \" \" + str2)"
   ]
  },
  {
   "cell_type": "code",
   "execution_count": 12,
   "id": "871cd0d8-796f-45b5-8b61-3418a67b830d",
   "metadata": {
    "collapsed": true,
    "jupyter": {
     "outputs_hidden": true,
     "source_hidden": true
    }
   },
   "outputs": [
    {
     "data": {
      "text/plain": [
       "'hello word'"
      ]
     },
     "execution_count": 12,
     "metadata": {},
     "output_type": "execute_result"
    }
   ],
   "source": [
    "\" \".join([str1, str2])"
   ]
  },
  {
   "cell_type": "code",
   "execution_count": 15,
   "id": "7f24872e-849b-43fe-b87e-f4584592cf9a",
   "metadata": {
    "collapsed": true,
    "jupyter": {
     "outputs_hidden": true,
     "source_hidden": true
    }
   },
   "outputs": [
    {
     "data": {
      "text/plain": [
       "['Hello', 'World']"
      ]
     },
     "execution_count": 15,
     "metadata": {},
     "output_type": "execute_result"
    }
   ],
   "source": [
    "a = \"Hello World\"\n",
    "a.split()"
   ]
  },
  {
   "cell_type": "markdown",
   "id": "ff59a364-1d69-48a6-88b6-cc30a95357e8",
   "metadata": {},
   "source": [
    "Viết chương trình đếm tổng số nguyên âm, phụ âm và khoảng trắng trong chuỗi"
   ]
  },
  {
   "cell_type": "code",
   "execution_count": 41,
   "id": "f32f5be3-bd22-4257-bd21-6f106575ce24",
   "metadata": {
    "collapsed": true,
    "jupyter": {
     "outputs_hidden": true,
     "source_hidden": true
    }
   },
   "outputs": [
    {
     "name": "stdin",
     "output_type": "stream",
     "text": [
      "Nhập chuỗi Hong Nhut\n"
     ]
    },
    {
     "name": "stdout",
     "output_type": "stream",
     "text": [
      "Tổng nguyên âm 2\n",
      "Tổng phụ âm 4\n",
      "Tổng khoảng trắng 1\n"
     ]
    }
   ],
   "source": [
    "str1 = input(\"Nhập chuỗi\")\n",
    "nguyenAm = 0\n",
    "phuAm = 0\n",
    "blank = 0\n",
    "\n",
    "for i in str1:\n",
    "    if (i=='a' or i=='e' or i=='i' or i=='o' or i=='u'):\n",
    "        nguyenAm += 1\n",
    "    elif 'a' < i < 'z':\n",
    "        phuAm += 1\n",
    "    elif i == \" \":\n",
    "        blank += 1\n",
    "\n",
    "print(f\"Tổng nguyên âm {nguyenAm}\")\n",
    "print(f\"Tổng phụ âm {phuAm}\")\n",
    "print(f\"Tổng khoảng trắng {blank}\")"
   ]
  },
  {
   "cell_type": "code",
   "execution_count": 42,
   "id": "014cd71c-61b4-4aa8-9c5f-208b300b7ac9",
   "metadata": {
    "collapsed": true,
    "jupyter": {
     "outputs_hidden": true,
     "source_hidden": true
    }
   },
   "outputs": [
    {
     "data": {
      "text/plain": [
       "['__add__',\n",
       " '__class__',\n",
       " '__contains__',\n",
       " '__delattr__',\n",
       " '__dir__',\n",
       " '__doc__',\n",
       " '__eq__',\n",
       " '__format__',\n",
       " '__ge__',\n",
       " '__getattribute__',\n",
       " '__getitem__',\n",
       " '__getnewargs__',\n",
       " '__getstate__',\n",
       " '__gt__',\n",
       " '__hash__',\n",
       " '__init__',\n",
       " '__init_subclass__',\n",
       " '__iter__',\n",
       " '__le__',\n",
       " '__len__',\n",
       " '__lt__',\n",
       " '__mod__',\n",
       " '__mul__',\n",
       " '__ne__',\n",
       " '__new__',\n",
       " '__reduce__',\n",
       " '__reduce_ex__',\n",
       " '__repr__',\n",
       " '__rmod__',\n",
       " '__rmul__',\n",
       " '__setattr__',\n",
       " '__sizeof__',\n",
       " '__str__',\n",
       " '__subclasshook__',\n",
       " 'capitalize',\n",
       " 'casefold',\n",
       " 'center',\n",
       " 'count',\n",
       " 'encode',\n",
       " 'endswith',\n",
       " 'expandtabs',\n",
       " 'find',\n",
       " 'format',\n",
       " 'format_map',\n",
       " 'index',\n",
       " 'isalnum',\n",
       " 'isalpha',\n",
       " 'isascii',\n",
       " 'isdecimal',\n",
       " 'isdigit',\n",
       " 'isidentifier',\n",
       " 'islower',\n",
       " 'isnumeric',\n",
       " 'isprintable',\n",
       " 'isspace',\n",
       " 'istitle',\n",
       " 'isupper',\n",
       " 'join',\n",
       " 'ljust',\n",
       " 'lower',\n",
       " 'lstrip',\n",
       " 'maketrans',\n",
       " 'partition',\n",
       " 'removeprefix',\n",
       " 'removesuffix',\n",
       " 'replace',\n",
       " 'rfind',\n",
       " 'rindex',\n",
       " 'rjust',\n",
       " 'rpartition',\n",
       " 'rsplit',\n",
       " 'rstrip',\n",
       " 'split',\n",
       " 'splitlines',\n",
       " 'startswith',\n",
       " 'strip',\n",
       " 'swapcase',\n",
       " 'title',\n",
       " 'translate',\n",
       " 'upper',\n",
       " 'zfill']"
      ]
     },
     "execution_count": 42,
     "metadata": {},
     "output_type": "execute_result"
    }
   ],
   "source": [
    "dir(str)"
   ]
  },
  {
   "cell_type": "code",
   "execution_count": 16,
   "id": "2f73fa27-9398-45a7-91c7-68c671c92bdb",
   "metadata": {
    "collapsed": true,
    "jupyter": {
     "outputs_hidden": true,
     "source_hidden": true
    }
   },
   "outputs": [
    {
     "data": {
      "text/plain": [
       "True"
      ]
     },
     "execution_count": 16,
     "metadata": {},
     "output_type": "execute_result"
    }
   ],
   "source": [
    "a = 'hello'\n",
    "a.islower()"
   ]
  },
  {
   "cell_type": "markdown",
   "id": "e8501913-a707-4fc8-a714-023e042883e6",
   "metadata": {},
   "source": [
    "> Chuỗi:\n",
    "> - Khai báo\n",
    "> - Khi tạo 1 chuỗi thì nó sẽ có thuộc tính và phương thức\n",
    "> - `join(), strip()`\n",
    "> - `[start:end:step]`\n",
    "> - shift+tab -> xem hướng dẫn "
   ]
  },
  {
   "cell_type": "markdown",
   "id": "9c3e5426-1885-4e6f-9c62-cf84e4428ea4",
   "metadata": {},
   "source": [
    "### 2.3 Lists"
   ]
  },
  {
   "cell_type": "code",
   "execution_count": 17,
   "id": "b9d4c5bf-fcc4-467e-99d1-65298aefe2a7",
   "metadata": {
    "collapsed": true,
    "jupyter": {
     "outputs_hidden": true,
     "source_hidden": true
    }
   },
   "outputs": [
    {
     "name": "stdout",
     "output_type": "stream",
     "text": [
      "<class 'list'>\n"
     ]
    }
   ],
   "source": [
    " # Tạo 1 danh sách rỗng\n",
    "l = []\n",
    "# l = list()\n",
    "print(type(l))"
   ]
  },
  {
   "cell_type": "code",
   "execution_count": 50,
   "id": "74771f4e-78c2-4782-a40b-c4f35808c23f",
   "metadata": {
    "collapsed": true,
    "jupyter": {
     "outputs_hidden": true,
     "source_hidden": true
    }
   },
   "outputs": [
    {
     "data": {
      "text/plain": [
       "['__add__',\n",
       " '__class__',\n",
       " '__class_getitem__',\n",
       " '__contains__',\n",
       " '__delattr__',\n",
       " '__delitem__',\n",
       " '__dir__',\n",
       " '__doc__',\n",
       " '__eq__',\n",
       " '__format__',\n",
       " '__ge__',\n",
       " '__getattribute__',\n",
       " '__getitem__',\n",
       " '__getstate__',\n",
       " '__gt__',\n",
       " '__hash__',\n",
       " '__iadd__',\n",
       " '__imul__',\n",
       " '__init__',\n",
       " '__init_subclass__',\n",
       " '__iter__',\n",
       " '__le__',\n",
       " '__len__',\n",
       " '__lt__',\n",
       " '__mul__',\n",
       " '__ne__',\n",
       " '__new__',\n",
       " '__reduce__',\n",
       " '__reduce_ex__',\n",
       " '__repr__',\n",
       " '__reversed__',\n",
       " '__rmul__',\n",
       " '__setattr__',\n",
       " '__setitem__',\n",
       " '__sizeof__',\n",
       " '__str__',\n",
       " '__subclasshook__',\n",
       " 'append',\n",
       " 'clear',\n",
       " 'copy',\n",
       " 'count',\n",
       " 'extend',\n",
       " 'index',\n",
       " 'insert',\n",
       " 'pop',\n",
       " 'remove',\n",
       " 'reverse',\n",
       " 'sort']"
      ]
     },
     "execution_count": 50,
     "metadata": {},
     "output_type": "execute_result"
    }
   ],
   "source": [
    "dir(list)"
   ]
  },
  {
   "cell_type": "code",
   "execution_count": 19,
   "id": "6f0664c1-adb5-451a-b7e5-4335d92276e7",
   "metadata": {
    "collapsed": true,
    "jupyter": {
     "outputs_hidden": true,
     "source_hidden": true
    }
   },
   "outputs": [
    {
     "name": "stdout",
     "output_type": "stream",
     "text": [
      "['1', '1']\n"
     ]
    },
    {
     "data": {
      "text/plain": [
       "0"
      ]
     },
     "execution_count": 19,
     "metadata": {},
     "output_type": "execute_result"
    }
   ],
   "source": [
    "l.append('1')\n",
    "print(l)\n",
    "\n",
    "l.index()"
   ]
  },
  {
   "cell_type": "code",
   "execution_count": 46,
   "id": "d9d04196-a65b-4d14-96f5-54cc6df50884",
   "metadata": {
    "collapsed": true,
    "jupyter": {
     "outputs_hidden": true,
     "source_hidden": true
    }
   },
   "outputs": [
    {
     "name": "stdout",
     "output_type": "stream",
     "text": [
      "['1', '2']\n"
     ]
    }
   ],
   "source": [
    "l.append('2')\n",
    "print(l)"
   ]
  },
  {
   "cell_type": "code",
   "execution_count": 47,
   "id": "69f1571a-7b72-45b0-9dc5-8ec168d3ec69",
   "metadata": {
    "collapsed": true,
    "jupyter": {
     "outputs_hidden": true,
     "source_hidden": true
    }
   },
   "outputs": [
    {
     "name": "stdout",
     "output_type": "stream",
     "text": [
      "['1', '3', '2']\n"
     ]
    }
   ],
   "source": [
    "l.insert(1,'3')\n",
    "print(l)"
   ]
  },
  {
   "cell_type": "code",
   "execution_count": 48,
   "id": "d7f8ec1a-95aa-4e4f-a772-e53a998bcc85",
   "metadata": {
    "collapsed": true,
    "jupyter": {
     "outputs_hidden": true,
     "source_hidden": true
    }
   },
   "outputs": [
    {
     "data": {
      "text/plain": [
       "2"
      ]
     },
     "execution_count": 48,
     "metadata": {},
     "output_type": "execute_result"
    }
   ],
   "source": [
    "l.index('2')"
   ]
  },
  {
   "cell_type": "code",
   "execution_count": 49,
   "id": "836f4db2-a75b-4b49-bd85-3f37284cb148",
   "metadata": {
    "collapsed": true,
    "jupyter": {
     "outputs_hidden": true,
     "source_hidden": true
    }
   },
   "outputs": [
    {
     "name": "stdout",
     "output_type": "stream",
     "text": [
      "['1', '3', '2', 2]\n"
     ]
    }
   ],
   "source": [
    "l.append(2)\n",
    "print(l)"
   ]
  },
  {
   "cell_type": "code",
   "execution_count": 51,
   "id": "a78cf464-b038-4227-aaf4-f55d44684ecb",
   "metadata": {
    "collapsed": true,
    "jupyter": {
     "outputs_hidden": true,
     "source_hidden": true
    }
   },
   "outputs": [
    {
     "name": "stdout",
     "output_type": "stream",
     "text": [
      "Sắp xếp danh sách dùng thuật toán Bubble Sort [1, 3, 4, 8]\n"
     ]
    }
   ],
   "source": [
    "def bubble_sort(list_items):\n",
    "    for i in range(len(list_items)):\n",
    "        for j in range(len(list_items)-i-1):\n",
    "            if list_items[j] > list_items[j+1]:\n",
    "                temp = list_items[j]\n",
    "                list_items[j] = list_items[j+1]\n",
    "                list_items[j+1] = temp\n",
    "\n",
    "    print(f\"Sắp xếp danh sách dùng thuật toán Bubble Sort {list_items}\")\n",
    "\n",
    "l = [1,3,4,8]\n",
    "bubble_sort(l)"
   ]
  },
  {
   "cell_type": "markdown",
   "id": "9d547db3-af91-442e-ade7-633c0f574d9c",
   "metadata": {},
   "source": [
    "### 2.4 Dictionaries\n",
    "Khai báo từ điển `{k:v}`\n"
   ]
  },
  {
   "cell_type": "code",
   "execution_count": 20,
   "id": "0a36ef4c-31f4-4441-a642-5c9adb0b63d7",
   "metadata": {
    "collapsed": true,
    "jupyter": {
     "outputs_hidden": true,
     "source_hidden": true
    }
   },
   "outputs": [
    {
     "name": "stdout",
     "output_type": "stream",
     "text": [
      "{'a': 1, 'b': 2}\n"
     ]
    }
   ],
   "source": [
    "dic = {'a':1, 'b':2}\n",
    "print(dic)"
   ]
  },
  {
   "cell_type": "code",
   "execution_count": 57,
   "id": "dd5ce7e6-4689-41bc-b601-232d1ffe72a9",
   "metadata": {
    "collapsed": true,
    "jupyter": {
     "outputs_hidden": true,
     "source_hidden": true
    }
   },
   "outputs": [
    {
     "data": {
      "text/plain": [
       "['__class__',\n",
       " '__class_getitem__',\n",
       " '__contains__',\n",
       " '__delattr__',\n",
       " '__delitem__',\n",
       " '__dir__',\n",
       " '__doc__',\n",
       " '__eq__',\n",
       " '__format__',\n",
       " '__ge__',\n",
       " '__getattribute__',\n",
       " '__getitem__',\n",
       " '__getstate__',\n",
       " '__gt__',\n",
       " '__hash__',\n",
       " '__init__',\n",
       " '__init_subclass__',\n",
       " '__ior__',\n",
       " '__iter__',\n",
       " '__le__',\n",
       " '__len__',\n",
       " '__lt__',\n",
       " '__ne__',\n",
       " '__new__',\n",
       " '__or__',\n",
       " '__reduce__',\n",
       " '__reduce_ex__',\n",
       " '__repr__',\n",
       " '__reversed__',\n",
       " '__ror__',\n",
       " '__setattr__',\n",
       " '__setitem__',\n",
       " '__sizeof__',\n",
       " '__str__',\n",
       " '__subclasshook__',\n",
       " 'clear',\n",
       " 'copy',\n",
       " 'fromkeys',\n",
       " 'get',\n",
       " 'items',\n",
       " 'keys',\n",
       " 'pop',\n",
       " 'popitem',\n",
       " 'setdefault',\n",
       " 'update',\n",
       " 'values']"
      ]
     },
     "execution_count": 57,
     "metadata": {},
     "output_type": "execute_result"
    }
   ],
   "source": [
    "dir(dict)"
   ]
  },
  {
   "cell_type": "code",
   "execution_count": 58,
   "id": "00143074-1f67-456b-a004-71385e7ad0b1",
   "metadata": {
    "collapsed": true,
    "jupyter": {
     "outputs_hidden": true,
     "source_hidden": true
    }
   },
   "outputs": [
    {
     "data": {
      "text/plain": [
       "dict_keys(['a', 'b'])"
      ]
     },
     "execution_count": 58,
     "metadata": {},
     "output_type": "execute_result"
    }
   ],
   "source": [
    "dic.keys()"
   ]
  },
  {
   "cell_type": "code",
   "execution_count": 59,
   "id": "d33c6261-74bc-4bc1-a489-0ed384f97c41",
   "metadata": {
    "collapsed": true,
    "jupyter": {
     "outputs_hidden": true,
     "source_hidden": true
    }
   },
   "outputs": [
    {
     "data": {
      "text/plain": [
       "dict_items([('a', 1), ('b', 2)])"
      ]
     },
     "execution_count": 59,
     "metadata": {},
     "output_type": "execute_result"
    }
   ],
   "source": [
    "dic.items()"
   ]
  },
  {
   "cell_type": "code",
   "execution_count": 60,
   "id": "11be4677-b801-4273-8b31-2c0570f88c04",
   "metadata": {
    "collapsed": true,
    "jupyter": {
     "outputs_hidden": true,
     "source_hidden": true
    }
   },
   "outputs": [
    {
     "data": {
      "text/plain": [
       "dict_values([1, 2])"
      ]
     },
     "execution_count": 60,
     "metadata": {},
     "output_type": "execute_result"
    }
   ],
   "source": [
    "dic.values()"
   ]
  },
  {
   "cell_type": "code",
   "execution_count": 61,
   "id": "33f503f6-710a-43dc-8bcb-8837e37c74f8",
   "metadata": {
    "collapsed": true,
    "jupyter": {
     "outputs_hidden": true,
     "source_hidden": true
    }
   },
   "outputs": [
    {
     "name": "stdout",
     "output_type": "stream",
     "text": [
      "{'b': 2}\n"
     ]
    }
   ],
   "source": [
    "dic.pop()\n",
    "print(dic)"
   ]
  },
  {
   "cell_type": "code",
   "execution_count": 62,
   "id": "9f34b279-35a9-4191-ba39-5f383a200732",
   "metadata": {
    "collapsed": true,
    "jupyter": {
     "outputs_hidden": true,
     "source_hidden": true
    }
   },
   "outputs": [
    {
     "name": "stdout",
     "output_type": "stream",
     "text": [
      "{'b': 2, 'c': 10, 'd': 11}\n"
     ]
    }
   ],
   "source": [
    "dic.update({'c': 10, 'd':11})\n",
    "print(dic)"
   ]
  },
  {
   "cell_type": "code",
   "execution_count": 65,
   "id": "13204ee6-3fa0-4e76-9917-08101dab66fb",
   "metadata": {
    "collapsed": true,
    "jupyter": {
     "outputs_hidden": true,
     "source_hidden": true
    }
   },
   "outputs": [
    {
     "data": {
      "text/plain": [
       "168"
      ]
     },
     "execution_count": 65,
     "metadata": {},
     "output_type": "execute_result"
    }
   ],
   "source": [
    "dic.__sizeof__()"
   ]
  },
  {
   "cell_type": "markdown",
   "id": "11125085-4793-4fb6-b404-86d9a9579694",
   "metadata": {},
   "source": [
    "Viết chương trình duyệt 1 từ điển"
   ]
  },
  {
   "cell_type": "code",
   "execution_count": 71,
   "id": "8dfe83f3-fca9-4a13-8a61-aef8c72bb0a0",
   "metadata": {
    "collapsed": true,
    "jupyter": {
     "outputs_hidden": true,
     "source_hidden": true
    }
   },
   "outputs": [
    {
     "name": "stdout",
     "output_type": "stream",
     "text": [
      "Danh sách các nước\n",
      "-----------------------\n",
      "India\n",
      "USA\n",
      "Russia\n",
      "Japan\n",
      "Germany\n",
      "-----------------------\n",
      "Đơn vị tiền tệ\n",
      "Rupee\n",
      "Dollar\n",
      "Ruble\n",
      "Yen\n",
      "Euro\n",
      "-----------------------\n",
      "India có đơn vị tiền tệ là: Rupee\n",
      "-----------------------\n",
      "USA có đơn vị tiền tệ là: Dollar\n",
      "-----------------------\n",
      "Russia có đơn vị tiền tệ là: Ruble\n",
      "-----------------------\n",
      "Japan có đơn vị tiền tệ là: Yen\n",
      "-----------------------\n",
      "Germany có đơn vị tiền tệ là: Euro\n"
     ]
    }
   ],
   "source": [
    "currency = {\"India\": \"Rupee\", \"USA\": \"Dollar\", \"Russia\": \"Ruble\", \"Japan\": \"Yen\", \"Germany\": \"Euro\"}\n",
    "print(\"Danh sách các nước\")\n",
    "print(\"-----------------------\")\n",
    "for key in currency.keys():\n",
    "    print(key)\n",
    "print(\"-----------------------\")\n",
    "print(\"Đơn vị tiền tệ\")\n",
    "for value in currency.values():\n",
    "    print(value)\n",
    "for key, value in currency.items():\n",
    "    print(\"-----------------------\")\n",
    "    print(f\"{key} có đơn vị tiền tệ là: {value}\")"
   ]
  },
  {
   "cell_type": "code",
   "execution_count": 72,
   "id": "73e9de9e-5897-454e-99ad-7e7b4cf65ddd",
   "metadata": {
    "collapsed": true,
    "jupyter": {
     "outputs_hidden": true,
     "source_hidden": true
    }
   },
   "outputs": [
    {
     "ename": "SyntaxError",
     "evalue": "invalid syntax (1376856797.py, line 1)",
     "output_type": "error",
     "traceback": [
      "\u001b[0;36m  Cell \u001b[0;32mIn[72], line 1\u001b[0;36m\u001b[0m\n\u001b[0;31m    del\u001b[0m\n\u001b[0m        ^\u001b[0m\n\u001b[0;31mSyntaxError\u001b[0m\u001b[0;31m:\u001b[0m invalid syntax\n"
     ]
    }
   ],
   "source": [
    "del "
   ]
  },
  {
   "cell_type": "markdown",
   "id": "c86c16fd-76bc-47dd-a4b0-315c062832eb",
   "metadata": {},
   "source": [
    "> Cần nhớ\n",
    ">- Cách tạo từ điển `{}`\n",
    ">- Cách thêm giá trị {'key': value}\n",
    ">- Cách lấy key dic.keys()\n",
    ">- Cách lấy value dic.values()\n",
    ">- Cách thêm giá trị vào từ điển đã khai báo update({k:v})"
   ]
  },
  {
   "cell_type": "markdown",
   "id": "05030921-d315-4b21-9d04-e706e4c5e239",
   "metadata": {},
   "source": [
    "### 2.5 Tuples and Sets\n",
    "* Tuples: là một danh sách, sau khi khởi tạo giá trị không thể thay đổi được.\n",
    "  `tuple_name = (, , )`"
   ]
  },
  {
   "cell_type": "code",
   "execution_count": 2,
   "id": "007281ec-3a56-4327-8375-61f8a779dac9",
   "metadata": {
    "collapsed": true,
    "jupyter": {
     "outputs_hidden": true,
     "source_hidden": true
    }
   },
   "outputs": [
    {
     "name": "stdout",
     "output_type": "stream",
     "text": [
      "<class 'tuple'>\n"
     ]
    }
   ],
   "source": [
    "x = (1, 2, 3)\n",
    "print(type(x))"
   ]
  },
  {
   "cell_type": "code",
   "execution_count": 3,
   "id": "58269461-3862-43e4-9761-f4c97ca99e43",
   "metadata": {
    "collapsed": true,
    "jupyter": {
     "outputs_hidden": true,
     "source_hidden": true
    }
   },
   "outputs": [
    {
     "data": {
      "text/plain": [
       "['__add__',\n",
       " '__class__',\n",
       " '__class_getitem__',\n",
       " '__contains__',\n",
       " '__delattr__',\n",
       " '__dir__',\n",
       " '__doc__',\n",
       " '__eq__',\n",
       " '__format__',\n",
       " '__ge__',\n",
       " '__getattribute__',\n",
       " '__getitem__',\n",
       " '__getnewargs__',\n",
       " '__getstate__',\n",
       " '__gt__',\n",
       " '__hash__',\n",
       " '__init__',\n",
       " '__init_subclass__',\n",
       " '__iter__',\n",
       " '__le__',\n",
       " '__len__',\n",
       " '__lt__',\n",
       " '__mul__',\n",
       " '__ne__',\n",
       " '__new__',\n",
       " '__reduce__',\n",
       " '__reduce_ex__',\n",
       " '__repr__',\n",
       " '__rmul__',\n",
       " '__setattr__',\n",
       " '__sizeof__',\n",
       " '__str__',\n",
       " '__subclasshook__',\n",
       " 'count',\n",
       " 'index']"
      ]
     },
     "execution_count": 3,
     "metadata": {},
     "output_type": "execute_result"
    }
   ],
   "source": [
    "dir(tuple)"
   ]
  },
  {
   "cell_type": "code",
   "execution_count": 4,
   "id": "00368e77-c89f-4883-b895-744c8918be97",
   "metadata": {
    "collapsed": true,
    "jupyter": {
     "outputs_hidden": true,
     "source_hidden": true
    }
   },
   "outputs": [
    {
     "data": {
      "text/plain": [
       "2"
      ]
     },
     "execution_count": 4,
     "metadata": {},
     "output_type": "execute_result"
    }
   ],
   "source": [
    "y = (1,2,3,4,6,4)\n",
    "y.count(4)"
   ]
  },
  {
   "cell_type": "code",
   "execution_count": 5,
   "id": "9cc0e4ea-bc88-45cc-8732-35c682034011",
   "metadata": {
    "collapsed": true,
    "jupyter": {
     "outputs_hidden": true,
     "source_hidden": true
    }
   },
   "outputs": [
    {
     "data": {
      "text/plain": [
       "0"
      ]
     },
     "execution_count": 5,
     "metadata": {},
     "output_type": "execute_result"
    }
   ],
   "source": [
    "y.index(1)"
   ]
  },
  {
   "cell_type": "code",
   "execution_count": 7,
   "id": "f007a024-3e08-4845-a84a-433284b23854",
   "metadata": {
    "collapsed": true,
    "jupyter": {
     "outputs_hidden": true,
     "source_hidden": true
    }
   },
   "outputs": [
    {
     "data": {
      "text/plain": [
       "[0, 2, 3]"
      ]
     },
     "execution_count": 7,
     "metadata": {},
     "output_type": "execute_result"
    }
   ],
   "source": [
    "z = [1,2,3]\n",
    "z[0] = 0\n",
    "z"
   ]
  },
  {
   "cell_type": "code",
   "execution_count": 8,
   "id": "7d9b09cc-45f8-4548-9712-5d63be925272",
   "metadata": {
    "collapsed": true,
    "jupyter": {
     "outputs_hidden": true,
     "source_hidden": true
    }
   },
   "outputs": [
    {
     "ename": "TypeError",
     "evalue": "'tuple' object does not support item assignment",
     "output_type": "error",
     "traceback": [
      "\u001b[0;31m---------------------------------------------------------------------------\u001b[0m",
      "\u001b[0;31mTypeError\u001b[0m                                 Traceback (most recent call last)",
      "Cell \u001b[0;32mIn[8], line 1\u001b[0m\n\u001b[0;32m----> 1\u001b[0m \u001b[43my\u001b[49m\u001b[43m[\u001b[49m\u001b[38;5;241;43m0\u001b[39;49m\u001b[43m]\u001b[49m \u001b[38;5;241m=\u001b[39m \u001b[38;5;241m1\u001b[39m\n\u001b[1;32m      2\u001b[0m y\n",
      "\u001b[0;31mTypeError\u001b[0m: 'tuple' object does not support item assignment"
     ]
    }
   ],
   "source": [
    "y[0] = 1\n",
    "y"
   ]
  },
  {
   "cell_type": "code",
   "execution_count": 9,
   "id": "cbd3efc6-b9df-42c0-93be-58678120ee97",
   "metadata": {
    "collapsed": true,
    "jupyter": {
     "outputs_hidden": true,
     "source_hidden": true
    }
   },
   "outputs": [
    {
     "data": {
      "text/plain": [
       "1"
      ]
     },
     "execution_count": 9,
     "metadata": {},
     "output_type": "execute_result"
    }
   ],
   "source": [
    "y[0]"
   ]
  },
  {
   "cell_type": "code",
   "execution_count": 10,
   "id": "57e3a9b7-58fb-45d3-b9d5-d75768f0f2f9",
   "metadata": {
    "collapsed": true,
    "jupyter": {
     "outputs_hidden": true,
     "source_hidden": true
    }
   },
   "outputs": [
    {
     "data": {
      "text/plain": [
       "(1, 2, 3, 4, 6, 4)"
      ]
     },
     "execution_count": 10,
     "metadata": {},
     "output_type": "execute_result"
    }
   ],
   "source": [
    "y"
   ]
  },
  {
   "cell_type": "code",
   "execution_count": 12,
   "id": "c30e1fc9-0014-42cb-96ee-2d1d7a041e4d",
   "metadata": {
    "collapsed": true,
    "jupyter": {
     "outputs_hidden": true,
     "source_hidden": true
    }
   },
   "outputs": [
    {
     "name": "stdout",
     "output_type": "stream",
     "text": [
      "<class 'tuple'>\n",
      "([0, 2, 3], 'a')\n"
     ]
    }
   ],
   "source": [
    "del y\n",
    "y = (z, 'a')\n",
    "print(type(y))\n",
    "print(y)"
   ]
  },
  {
   "cell_type": "code",
   "execution_count": 17,
   "id": "e96cf960-0995-4d8e-bbcd-5d23902b72aa",
   "metadata": {
    "collapsed": true,
    "jupyter": {
     "outputs_hidden": true,
     "source_hidden": true
    }
   },
   "outputs": [
    {
     "data": {
      "text/plain": [
       "[0, 2, 3]"
      ]
     },
     "execution_count": 17,
     "metadata": {},
     "output_type": "execute_result"
    }
   ],
   "source": [
    "y[0]"
   ]
  },
  {
   "cell_type": "code",
   "execution_count": 18,
   "id": "dd97fd3b-d346-4fdf-a3e0-01d10fe4e9fc",
   "metadata": {
    "collapsed": true,
    "jupyter": {
     "outputs_hidden": true,
     "source_hidden": true
    }
   },
   "outputs": [
    {
     "data": {
      "text/plain": [
       "2"
      ]
     },
     "execution_count": 18,
     "metadata": {},
     "output_type": "execute_result"
    }
   ],
   "source": [
    "y[0][1]"
   ]
  },
  {
   "cell_type": "code",
   "execution_count": 24,
   "id": "eb11aad2-f208-4bd3-9746-c754fa07b275",
   "metadata": {
    "collapsed": true,
    "jupyter": {
     "outputs_hidden": true,
     "source_hidden": true
    }
   },
   "outputs": [
    {
     "name": "stdout",
     "output_type": "stream",
     "text": [
      "<class 'tuple'>\n",
      "(1,)\n",
      "(1, 2)\n"
     ]
    }
   ],
   "source": [
    "t = ()\n",
    "t += (1,)\n",
    "print(type(t))\n",
    "print(t)\n",
    "t += (2,)\n",
    "print(t)"
   ]
  },
  {
   "cell_type": "markdown",
   "id": "92cb3d79-a3b2-4d4b-9906-4dfdd9536e8a",
   "metadata": {},
   "source": [
    "* zip() function\n",
    "```python\n",
    "x = [1,2,3]\n",
    "y = [4,5,6]\n",
    "zipper = zip(x,y)\n",
    "list(zipper)\n",
    "````"
   ]
  },
  {
   "cell_type": "code",
   "execution_count": 32,
   "id": "f391c7e8-4a64-464d-aee5-c5d424420570",
   "metadata": {
    "collapsed": true,
    "jupyter": {
     "outputs_hidden": true,
     "source_hidden": true
    }
   },
   "outputs": [
    {
     "data": {
      "text/plain": [
       "[(1, 4), (2, 5), (3, 6)]"
      ]
     },
     "execution_count": 32,
     "metadata": {},
     "output_type": "execute_result"
    }
   ],
   "source": [
    "x = [1,2,3]\n",
    "y = [4,5,6]\n",
    "zipper = zip(x,y)\n",
    "list(zipper)"
   ]
  },
  {
   "cell_type": "code",
   "execution_count": 33,
   "id": "d0cc256e-353b-4098-bb6b-d227d6898db1",
   "metadata": {
    "collapsed": true,
    "jupyter": {
     "outputs_hidden": true,
     "source_hidden": true
    }
   },
   "outputs": [
    {
     "name": "stdout",
     "output_type": "stream",
     "text": [
      "What is your name? It is lancelot\n",
      "What is your quets? It is the holy grail\n",
      "What is your color? It is blue\n"
     ]
    }
   ],
   "source": [
    "question =('name', 'quets', 'color')\n",
    "answers = ('lancelot', 'the holy grail', 'blue')\n",
    "for q, a in zip(question, answers):\n",
    "    print(f\"What is your {q}? It is {a}\")"
   ]
  },
  {
   "cell_type": "markdown",
   "id": "86c41740-b507-4380-afe5-a9aef9b35c6f",
   "metadata": {},
   "source": [
    "* Sets tậ hợp không thứ tự không chứa giá trị trùng nhau.\n",
    "   - Khai báo {}, set()\n",
    "  > Tạo 1 set rỗng dùng set(), không dùng {}, vì dùng {} sẽ tạo từ điển rỗng."
   ]
  },
  {
   "cell_type": "code",
   "execution_count": 21,
   "id": "e9822a72-37ee-4b32-99ec-bf141141bf3c",
   "metadata": {
    "collapsed": true,
    "jupyter": {
     "outputs_hidden": true,
     "source_hidden": true
    }
   },
   "outputs": [
    {
     "name": "stdout",
     "output_type": "stream",
     "text": [
      "<class 'set'>\n",
      "{1, 2, 3}\n"
     ]
    }
   ],
   "source": [
    "a = {1,2,3,3}\n",
    "print(type(a))\n",
    "print(a)"
   ]
  },
  {
   "cell_type": "code",
   "execution_count": 35,
   "id": "e4f5e961-f750-4b94-a661-af6873c0e98e",
   "metadata": {
    "collapsed": true,
    "jupyter": {
     "outputs_hidden": true,
     "source_hidden": true
    }
   },
   "outputs": [
    {
     "data": {
      "text/plain": [
       "['__and__',\n",
       " '__class__',\n",
       " '__class_getitem__',\n",
       " '__contains__',\n",
       " '__delattr__',\n",
       " '__dir__',\n",
       " '__doc__',\n",
       " '__eq__',\n",
       " '__format__',\n",
       " '__ge__',\n",
       " '__getattribute__',\n",
       " '__getstate__',\n",
       " '__gt__',\n",
       " '__hash__',\n",
       " '__iand__',\n",
       " '__init__',\n",
       " '__init_subclass__',\n",
       " '__ior__',\n",
       " '__isub__',\n",
       " '__iter__',\n",
       " '__ixor__',\n",
       " '__le__',\n",
       " '__len__',\n",
       " '__lt__',\n",
       " '__ne__',\n",
       " '__new__',\n",
       " '__or__',\n",
       " '__rand__',\n",
       " '__reduce__',\n",
       " '__reduce_ex__',\n",
       " '__repr__',\n",
       " '__ror__',\n",
       " '__rsub__',\n",
       " '__rxor__',\n",
       " '__setattr__',\n",
       " '__sizeof__',\n",
       " '__str__',\n",
       " '__sub__',\n",
       " '__subclasshook__',\n",
       " '__xor__',\n",
       " 'add',\n",
       " 'clear',\n",
       " 'copy',\n",
       " 'difference',\n",
       " 'difference_update',\n",
       " 'discard',\n",
       " 'intersection',\n",
       " 'intersection_update',\n",
       " 'isdisjoint',\n",
       " 'issubset',\n",
       " 'issuperset',\n",
       " 'pop',\n",
       " 'remove',\n",
       " 'symmetric_difference',\n",
       " 'symmetric_difference_update',\n",
       " 'union',\n",
       " 'update']"
      ]
     },
     "execution_count": 35,
     "metadata": {},
     "output_type": "execute_result"
    }
   ],
   "source": [
    "dir(set)"
   ]
  },
  {
   "cell_type": "code",
   "execution_count": 36,
   "id": "d40d98b1-5505-4746-9a3e-260b3ba6e761",
   "metadata": {
    "collapsed": true,
    "jupyter": {
     "outputs_hidden": true,
     "source_hidden": true
    }
   },
   "outputs": [
    {
     "name": "stdout",
     "output_type": "stream",
     "text": [
      "{1, 2, 3}\n"
     ]
    }
   ],
   "source": [
    "print(a)"
   ]
  },
  {
   "cell_type": "code",
   "execution_count": 37,
   "id": "06c4dbac-a726-4ac4-ad27-dbea7867c1a2",
   "metadata": {
    "collapsed": true,
    "jupyter": {
     "outputs_hidden": true,
     "source_hidden": true
    }
   },
   "outputs": [
    {
     "name": "stdout",
     "output_type": "stream",
     "text": [
      "{1, 2, 3, 5}\n"
     ]
    }
   ],
   "source": [
    "a.add(5)\n",
    "print(a)"
   ]
  },
  {
   "cell_type": "code",
   "execution_count": 40,
   "id": "da37ac56-7062-47e2-ae1e-921a1b2b3116",
   "metadata": {
    "collapsed": true,
    "jupyter": {
     "outputs_hidden": true,
     "source_hidden": true
    }
   },
   "outputs": [
    {
     "name": "stdout",
     "output_type": "stream",
     "text": [
      "{1, 2, 3, 4, 5, 6}\n"
     ]
    }
   ],
   "source": [
    "b = {4,5,6}\n",
    "a.update(b)\n",
    "print(a)"
   ]
  },
  {
   "cell_type": "markdown",
   "id": "1bff53a4-34da-49a9-9988-7fdd7e2c4e1b",
   "metadata": {},
   "source": [
    "> Cần nhớ\n",
    "> - list: list(), []\n",
    "> - dic: {}\n",
    "> - tuple: ()\n",
    "> - set: set(), {}\n",
    "> - Kiểm tra các phương thức thuộc tính `dir(list|dictionary|tuple|set)` để xem các phương thức hỗ trợ cách sử dụng"
   ]
  },
  {
   "cell_type": "markdown",
   "id": "64edeb31-b096-4c97-84dc-bcf7fd294e6a",
   "metadata": {},
   "source": [
    "# Điều kiện"
   ]
  },
  {
   "cell_type": "markdown",
   "id": "db97b101-cb18-4718-80f0-ac04061ac0c9",
   "metadata": {},
   "source": [
    "- if\n",
    "```python\n",
    "if condition:\n",
    "    # Statements to execute if\n",
    "    # condition is true\n",
    "```\n",
    "- if else\n",
    "```python\n",
    "if (condition):\n",
    "    # Executes this block if\n",
    "    # condition is true\n",
    "else:\n",
    "    # Executes this block if\n",
    "    # condition is false\n",
    "```\n",
    "- if elif else\n",
    "```python\n",
    "# if-elif statement example\n",
    "letter = \"A\"\n",
    "\n",
    "if letter == \"B\":\n",
    "    print(\"letter is B\")\n",
    "\n",
    "elif letter == \"C\":\n",
    "    print(\"letter is C\")\n",
    "\n",
    "elif letter == \"A\":\n",
    "    print(\"letter is A\")\n",
    "\n",
    "else:\n",
    "    print(\"letter isn't A, B or C\")\n",
    "\n",
    "```"
   ]
  },
  {
   "cell_type": "markdown",
   "id": "01d7ba20-76f2-4156-b761-be500a92908c",
   "metadata": {},
   "source": [
    "#### Loop\n",
    "- while\n",
    "```python\n",
    "while expression:\n",
    "    statement(s)\n",
    "=============================\n",
    "while condition:\n",
    "     # execute these statements\n",
    "else:\n",
    "     # execute these statements\n",
    "\n",
    "while condition:\n",
    "     # execute these statements\n",
    "else:\n",
    "     # execute these statements\n",
    "==============================\n",
    "count = 0\n",
    "while (count < 3):\n",
    "    count = count + 1\n",
    "    print(\"Hello Geek\")\n",
    "else:\n",
    "    print(\"In Else Block\")\n",
    "```"
   ]
  },
  {
   "cell_type": "code",
   "execution_count": 22,
   "id": "f5c2bd7d-b989-4594-9b55-be0e5c53a73d",
   "metadata": {
    "collapsed": true,
    "jupyter": {
     "outputs_hidden": true,
     "source_hidden": true
    }
   },
   "outputs": [
    {
     "name": "stdout",
     "output_type": "stream",
     "text": [
      "Hello Geek\n",
      "Hello Geek\n",
      "Hello Geek\n",
      "In Else Block 3\n"
     ]
    }
   ],
   "source": [
    "count = 0\n",
    "while (count < 3):\n",
    "    count = count + 1\n",
    "    print(\"Hello Geek\")\n",
    "else:\n",
    "    print(f\"In Else Block {count}\")"
   ]
  },
  {
   "cell_type": "markdown",
   "id": "46e8cf4a-31ba-41d8-ab24-7d3c6d26b466",
   "metadata": {},
   "source": [
    "- for\n",
    "```python\n",
    "for iterator_var in sequence:\n",
    "    statements(s)\n",
    "```"
   ]
  },
  {
   "cell_type": "code",
   "execution_count": 23,
   "id": "2542622c-72f0-4d20-beed-ac8709f42e7c",
   "metadata": {
    "collapsed": true,
    "jupyter": {
     "outputs_hidden": true,
     "source_hidden": true
    }
   },
   "outputs": [
    {
     "name": "stdout",
     "output_type": "stream",
     "text": [
      "0\n",
      "1\n",
      "2\n"
     ]
    }
   ],
   "source": [
    "for i in range(0, 3):\n",
    "    print(i)"
   ]
  },
  {
   "cell_type": "code",
   "execution_count": 25,
   "id": "214105e0-1bbd-4ce6-9627-75adbc5e7c2f",
   "metadata": {
    "collapsed": true,
    "jupyter": {
     "outputs_hidden": true,
     "source_hidden": true
    }
   },
   "outputs": [
    {
     "name": "stdout",
     "output_type": "stream",
     "text": [
      "Index 0 value a\n",
      "Index 1 value b\n",
      "Index 2 value c\n",
      "a\n",
      "b\n",
      "c\n"
     ]
    }
   ],
   "source": [
    "l = ['a','b','c']\n",
    "for i, v in enumerate(l):\n",
    "    print(f\"Index {i} value {v}\")\n",
    "\n",
    "# for i in range(len(l)):\n",
    "#     print(l[i])\n",
    "for i in l:\n",
    "    print(i)"
   ]
  },
  {
   "cell_type": "code",
   "execution_count": 50,
   "id": "9758a13c-32c1-4e4c-bc81-b888362c790e",
   "metadata": {
    "collapsed": true,
    "jupyter": {
     "outputs_hidden": true,
     "source_hidden": true
    }
   },
   "outputs": [
    {
     "name": "stdout",
     "output_type": "stream",
     "text": [
      "geeks\n",
      "for\n",
      "geeks\n",
      "Inside Else block\n"
     ]
    }
   ],
   "source": [
    "list = [\"geeks\", \"for\", \"geeks\"]\n",
    "for index in range(len(list)):\n",
    "    print(list[index])\n",
    "else:\n",
    "    print(\"Inside Else block\")"
   ]
  },
  {
   "cell_type": "markdown",
   "id": "eee8ceb5-34c9-4d12-9e64-e7e0d77fd07e",
   "metadata": {
    "jp-MarkdownHeadingCollapsed": true
   },
   "source": [
    "#  Iter và Comprehensions\n",
    "`<name of> = iter(<name >)`"
   ]
  },
  {
   "cell_type": "code",
   "execution_count": 1,
   "id": "e898af9c-b1e6-433b-a79e-4ff60e60e25e",
   "metadata": {
    "collapsed": true,
    "jupyter": {
     "outputs_hidden": true,
     "source_hidden": true
    }
   },
   "outputs": [
    {
     "name": "stdout",
     "output_type": "stream",
     "text": [
      "Số âm: [-3]\n",
      "Số dương: [1, 2, 4, 5]\n"
     ]
    }
   ],
   "source": [
    "L = [1,2,-3,4,5]\n",
    "P = []\n",
    "N = []\n",
    "t = iter(L)\n",
    "try:\n",
    "    while True: \n",
    "        x = t.__next__()\n",
    "        if x >= 0:\n",
    "            P.append(x)\n",
    "        else:\n",
    "            N.append(x)\n",
    "except StopIteration:\n",
    "    print(f\"Số âm: {N}\")\n",
    "    print(f\"Số dương: {P}\")"
   ]
  },
  {
   "cell_type": "markdown",
   "id": "28ba7edd-2bd5-4014-86b3-5eea8f184a25",
   "metadata": {},
   "source": [
    "# Comprehensions¶\n",
    "`[expression for target in iterable]`"
   ]
  },
  {
   "cell_type": "code",
   "execution_count": 26,
   "id": "52bbe689-a6ec-4695-900a-d75337f85d31",
   "metadata": {
    "collapsed": true,
    "jupyter": {
     "outputs_hidden": true,
     "source_hidden": true
    }
   },
   "outputs": [
    {
     "data": {
      "text/plain": [
       "[0, 1, 4, 9, 16, 25, 36, 49, 64, 81]"
      ]
     },
     "execution_count": 26,
     "metadata": {},
     "output_type": "execute_result"
    }
   ],
   "source": [
    "[x ** 2 for x in range(10)]"
   ]
  },
  {
   "cell_type": "code",
   "execution_count": 3,
   "id": "44277741-817c-44e1-9551-379ae3933831",
   "metadata": {
    "collapsed": true,
    "jupyter": {
     "outputs_hidden": true,
     "source_hidden": true
    }
   },
   "outputs": [
    {
     "name": "stdout",
     "output_type": "stream",
     "text": [
      "[101, 201, 301, 100, 200, 300, 102, 202, 302]\n"
     ]
    }
   ],
   "source": [
    "res = [x + y for x in [1, 0, 2] for y in [100, 200, 300]]\n",
    "print(res)"
   ]
  },
  {
   "cell_type": "code",
   "execution_count": null,
   "id": "46371f90-30c7-42c9-a9d5-4bac31874cab",
   "metadata": {
    "collapsed": true,
    "jupyter": {
     "outputs_hidden": true,
     "source_hidden": true
    }
   },
   "outputs": [],
   "source": []
  },
  {
   "cell_type": "markdown",
   "id": "f1a1fde4-1ad1-4386-a0a4-5ef5723f4c85",
   "metadata": {},
   "source": [
    "# HÀM VÀ HÀM SINH "
   ]
  },
  {
   "cell_type": "markdown",
   "id": "4391db53-eb19-47c0-8ea0-f5a0ad444192",
   "metadata": {},
   "source": [
    "## Hàm "
   ]
  },
  {
   "cell_type": "markdown",
   "id": "45cba9a0-6bc4-4188-b7ba-254c5b0c8cbd",
   "metadata": {},
   "source": [
    "1. Phạm vi hàm\n",
    "- nếu 1 biến khai báo bên trong hàm thì là biến cục bộ.\n",
    "- nếu 1 biến khai báo bên ngoài hàm thì đó là biến toàn cục"
   ]
  },
  {
   "cell_type": "code",
   "execution_count": 2,
   "id": "782c346f-e76e-4e72-8ac9-5979ac2802bf",
   "metadata": {},
   "outputs": [
    {
     "name": "stdout",
     "output_type": "stream",
     "text": [
      "109\n"
     ]
    }
   ],
   "source": [
    "X = 99 # Biến toàn cục\n",
    "def func(Y):\n",
    "    Z = X + Y # Biến cục bộ\n",
    "    print(Z)\n",
    "\n",
    "func(10)"
   ]
  },
  {
   "cell_type": "code",
   "execution_count": 3,
   "id": "d00cd747-c815-41d9-8032-e6f433c345f7",
   "metadata": {},
   "outputs": [
    {
     "name": "stdout",
     "output_type": "stream",
     "text": [
      "99\n"
     ]
    }
   ],
   "source": [
    "X = 99\n",
    "def func():\n",
    "    X = 100\n",
    "    return X\n",
    "\n",
    "func()\n",
    "print(X)"
   ]
  },
  {
   "cell_type": "code",
   "execution_count": 5,
   "id": "1302b791-bb68-4fec-b8fe-82942e6d18d2",
   "metadata": {},
   "outputs": [
    {
     "name": "stdout",
     "output_type": "stream",
     "text": [
      "100\n"
     ]
    }
   ],
   "source": [
    "X = 99\n",
    "def func():\n",
    "    global X\n",
    "    X = 100\n",
    "    return X\n",
    "\n",
    "func()\n",
    "print(X)"
   ]
  },
  {
   "cell_type": "code",
   "execution_count": 9,
   "id": "a59fca2d-0add-474b-ad1e-1c4d4e747435",
   "metadata": {},
   "outputs": [
    {
     "name": "stdout",
     "output_type": "stream",
     "text": [
      "88\n",
      "99\n"
     ]
    }
   ],
   "source": [
    "X = 99\n",
    "def f1():\n",
    "    X = 88\n",
    "    def f2():\n",
    "        # global X\n",
    "        # X = 100\n",
    "        print(X)\n",
    "\n",
    "    f2()\n",
    "\n",
    "f1()\n",
    "print(X)"
   ]
  },
  {
   "cell_type": "code",
   "execution_count": 18,
   "id": "460c1b6f-39d0-47ed-bc5f-d32841e0763f",
   "metadata": {},
   "outputs": [
    {
     "ename": "SyntaxError",
     "evalue": "no binding for nonlocal 'spam' found (1686046396.py, line 4)",
     "output_type": "error",
     "traceback": [
      "\u001b[0;36m  Cell \u001b[0;32mIn[18], line 4\u001b[0;36m\u001b[0m\n\u001b[0;31m    nonlocal spam\u001b[0m\n\u001b[0m    ^\u001b[0m\n\u001b[0;31mSyntaxError\u001b[0m\u001b[0;31m:\u001b[0m no binding for nonlocal 'spam' found\n"
     ]
    }
   ],
   "source": [
    "spam = 99\n",
    "def tester():\n",
    "    def nested():\n",
    "        nonlocal spam\n",
    "        print('Current=', spam)\n",
    "        spam += 1\n",
    "    return nested\n"
   ]
  },
  {
   "cell_type": "code",
   "execution_count": 21,
   "id": "04322aab-e696-4c8c-87a6-14c0eaf3222c",
   "metadata": {},
   "outputs": [
    {
     "name": "stdout",
     "output_type": "stream",
     "text": [
      "Current= 0\n"
     ]
    }
   ],
   "source": [
    "def tester(start):\n",
    "    spam = start\n",
    "    def nested():\n",
    "        nonlocal spam\n",
    "        print('Current=', spam)\n",
    "        spam += 1\n",
    "    return nested\n",
    "\n",
    "F = tester(0)\n",
    "F()"
   ]
  },
  {
   "cell_type": "markdown",
   "id": "e017233d-659f-433e-891a-4b3a8a5bf2ed",
   "metadata": {},
   "source": [
    "## Tham số hàm "
   ]
  },
  {
   "cell_type": "code",
   "execution_count": 22,
   "id": "4862dd46-c490-4226-9a2b-5fc8f2736148",
   "metadata": {},
   "outputs": [
    {
     "name": "stdout",
     "output_type": "stream",
     "text": [
      "88\n"
     ]
    }
   ],
   "source": [
    "def f(a):\n",
    "    a = 99\n",
    "\n",
    "b = 88\n",
    "f(b)\n",
    "print(b)"
   ]
  },
  {
   "cell_type": "code",
   "execution_count": 23,
   "id": "ade426c8-0e60-4d3a-9ebb-015a4f14b597",
   "metadata": {},
   "outputs": [
    {
     "data": {
      "text/plain": [
       "(1, ['spam', 2])"
      ]
     },
     "execution_count": 23,
     "metadata": {},
     "output_type": "execute_result"
    }
   ],
   "source": [
    "def changer(a, b):\n",
    "    a = 2\n",
    "    b[0] = 'spam'\n",
    "\n",
    "X = 1\n",
    "L = [1, 2]\n",
    "changer(X, L)\n",
    "X, L"
   ]
  },
  {
   "cell_type": "markdown",
   "id": "d376b87b-e0df-4a96-ba65-3ef142f16de3",
   "metadata": {},
   "source": [
    "![](img/argu.png)\n",
    "![](img/call-func.png)"
   ]
  },
  {
   "cell_type": "code",
   "execution_count": 25,
   "id": "570afe90-e790-40a3-a9a0-12db4a3b41b8",
   "metadata": {},
   "outputs": [
    {
     "name": "stdout",
     "output_type": "stream",
     "text": [
      "Other (1, 2, 3, 4)\n",
      "A 1\n"
     ]
    }
   ],
   "source": [
    "def func(*other, a):\n",
    "    print(f\"Other {other}\")\n",
    "    print(f\"A {a}\")\n",
    "\n",
    "func(1,2,3,4,a=1)"
   ]
  },
  {
   "cell_type": "code",
   "execution_count": 44,
   "id": "023856ef-ecf0-4c82-b02d-c389b978a8c9",
   "metadata": {},
   "outputs": [
    {
     "name": "stdout",
     "output_type": "stream",
     "text": [
      "Xin chào Bit  bạn 2 tuổi\n"
     ]
    }
   ],
   "source": [
    "# Đối số theo vị trí\n",
    "def greet(name, age):\n",
    "    print(f\"Xin chào {name}  bạn {age} tuổi\")\n",
    "\n",
    "greet(\"Bit\", 2)\n",
    "# greet(name=\"Bit\", 2) lỗi"
   ]
  },
  {
   "cell_type": "code",
   "execution_count": 37,
   "id": "39e7e9db-1c93-47d9-9c17-42cd68c0411a",
   "metadata": {},
   "outputs": [
    {
     "name": "stdout",
     "output_type": "stream",
     "text": [
      "Xin chào Bit, bạn 2 tuổi\n"
     ]
    }
   ],
   "source": [
    "# Đối số theo tên\n",
    "def greet(name, age):\n",
    "    print(f\"Xin chào {name}, bạn {age} tuổi\")\n",
    "\n",
    "greet(name='Bit', age=2)"
   ]
  },
  {
   "cell_type": "code",
   "execution_count": 38,
   "id": "f2856a31-d433-4405-9a41-0069b77ecd1c",
   "metadata": {},
   "outputs": [
    {
     "name": "stdout",
     "output_type": "stream",
     "text": [
      "Xin chào Bit, bạn 2 tuổi\n",
      "Xin chào Bit, bạn 2 tuổi\n"
     ]
    }
   ],
   "source": [
    "# Đối số mặc định\n",
    "# Đối số theo tên\n",
    "def greet(name, age=2):\n",
    "    print(f\"Xin chào {name}, bạn {age} tuổi\")\n",
    "\n",
    "greet(name='Bit')\n",
    "greet(name='Bit', age=2)"
   ]
  },
  {
   "cell_type": "code",
   "execution_count": 39,
   "id": "5a8dafbe-88c8-443a-a506-2a823dca9418",
   "metadata": {},
   "outputs": [
    {
     "name": "stdout",
     "output_type": "stream",
     "text": [
      "6\n"
     ]
    }
   ],
   "source": [
    "# Nhận nhiều tham số dạng tuple\n",
    "def sum_all(*numbers):\n",
    "    total = 0\n",
    "    for num in numbers:\n",
    "        total += num\n",
    "    return total\n",
    "\n",
    "print(sum_all(1, 2, 3))"
   ]
  },
  {
   "cell_type": "code",
   "execution_count": 40,
   "id": "53525b9f-c6fd-4cb7-899a-3a54619d769d",
   "metadata": {},
   "outputs": [
    {
     "name": "stdout",
     "output_type": "stream",
     "text": [
      "name: Bit\n",
      "age: 2\n",
      "city: Ca Mau\n"
     ]
    }
   ],
   "source": [
    "# Nhận nhiều tham số dạng từ điển\n",
    "def print_info(**info):\n",
    "    for key, value in info.items():\n",
    "        print(f\"{key}: {value}\")\n",
    "\n",
    "print_info(name='Bit', age=2, city='Ca Mau')"
   ]
  },
  {
   "cell_type": "code",
   "execution_count": 42,
   "id": "bdeedf1b-52ec-496e-9ccd-f0acf700743c",
   "metadata": {},
   "outputs": [
    {
     "name": "stdout",
     "output_type": "stream",
     "text": [
      "a: 1\n",
      "b: 2\n",
      "args: (3, 4)\n",
      "default: 20\n",
      "kwargs: {'x': 30, 'y': 40}\n"
     ]
    }
   ],
   "source": [
    "# kết hợp nhiều loại tham số\n",
    "def complex_function(a, b, *args, default=10, **kwargs):\n",
    "    print(f\"a: {a}\")\n",
    "    print(f\"b: {b}\")\n",
    "    print(f\"args: {args}\")\n",
    "    print(f\"default: {default}\")\n",
    "    print(f\"kwargs: {kwargs}\")\n",
    "\n",
    "complex_function(1, 2, 3, 4, default=20, x=30, y=40)"
   ]
  },
  {
   "cell_type": "markdown",
   "id": "7339adb3-b9a4-4ddb-b83e-ee13a445e21e",
   "metadata": {},
   "source": [
    "> Cần ghi nhớ\n",
    "> 1. Đối số vị trí phải đứng trước đối số theo tên\n",
    "> 2. Sau khi khai báo đối số theo tên không dùng đối số theo vị trí\n",
    "> 3. *args phải đứng trước **kwargs\n",
    "> 4. đối số mặc định phải đứng sau non-default argument"
   ]
  },
  {
   "cell_type": "code",
   "execution_count": 26,
   "id": "043fdfa2-0133-4c09-8b02-3c32d83546d6",
   "metadata": {},
   "outputs": [
    {
     "name": "stdout",
     "output_type": "stream",
     "text": [
      "A: 1\n",
      "B: (2, 3)\n"
     ]
    }
   ],
   "source": [
    "def func(a, *b):\n",
    "    print(f\"A: {a}\")\n",
    "    print(f\"B: {b}\")\n",
    "\n",
    "func(1,2,3)"
   ]
  },
  {
   "cell_type": "code",
   "execution_count": 34,
   "id": "5b891094-bdda-4dbf-bd35-7108788b840f",
   "metadata": {},
   "outputs": [
    {
     "name": "stdout",
     "output_type": "stream",
     "text": [
      "caling:  func\n",
      "*pargs: (1, 2, 3, 4, 5)\n",
      "**kargs: {}\n",
      "15\n"
     ]
    }
   ],
   "source": [
    "def tracer(func, *pargs, **kargs):\n",
    "    print('caling: ', func.__name__)\n",
    "    print(f\"*pargs: {pargs}\")\n",
    "    print(f\"**kargs: {kargs}\")\n",
    "    return func(*pargs, **kargs)\n",
    "\n",
    "def func(a, b, c, d, e):\n",
    "    return a + b + c + d + e\n",
    "\n",
    "print(tracer(func, 1, 2, 3, 4, 5))"
   ]
  },
  {
   "cell_type": "code",
   "execution_count": 45,
   "id": "9c1c231f-3847-4531-b0e6-5853d1007d26",
   "metadata": {},
   "outputs": [
    {
     "ename": "SyntaxError",
     "evalue": "positional argument follows keyword argument (1205722068.py, line 2)",
     "output_type": "error",
     "traceback": [
      "\u001b[0;36m  Cell \u001b[0;32mIn[45], line 2\u001b[0;36m\u001b[0m\n\u001b[0;31m    greet(age=25, \"An\")  # SyntaxError\u001b[0m\n\u001b[0m                      ^\u001b[0m\n\u001b[0;31mSyntaxError\u001b[0m\u001b[0;31m:\u001b[0m positional argument follows keyword argument\n"
     ]
    }
   ],
   "source": [
    "# Lỗi: positional argument sau keyword argument\n",
    "greet(age=25, \"An\")  # SyntaxError\n",
    "\n",
    "# Lỗi: non-default argument sau default argument\n",
    "def wrong(a=1, b):  # SyntaxError\n",
    "    pass"
   ]
  },
  {
   "cell_type": "code",
   "execution_count": null,
   "id": "85269de4-20c4-4243-a6b7-d672ea921693",
   "metadata": {},
   "outputs": [],
   "source": []
  }
 ],
 "metadata": {
  "kernelspec": {
   "display_name": "Python 3 (ipykernel)",
   "language": "python",
   "name": "python3"
  },
  "language_info": {
   "codemirror_mode": {
    "name": "ipython",
    "version": 3
   },
   "file_extension": ".py",
   "mimetype": "text/x-python",
   "name": "python",
   "nbconvert_exporter": "python",
   "pygments_lexer": "ipython3",
   "version": "3.12.6"
  }
 },
 "nbformat": 4,
 "nbformat_minor": 5
}
